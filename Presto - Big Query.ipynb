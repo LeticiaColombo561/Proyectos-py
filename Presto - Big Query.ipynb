{
 "cells": [
  {
   "cell_type": "markdown",
   "metadata": {},
   "source": [
    "### User behaviour"
   ]
  },
  {
   "cell_type": "code",
   "execution_count": 1,
   "metadata": {},
   "outputs": [],
   "source": [
    "import pandas as pd\n",
    "import numpy as np\n",
    "import matplotlib.pyplot as plt\n",
    "import seaborn as sns\n",
    "plt.style.use(\"seaborn-muted\")\n",
    "\n",
    "from sqlalchemy import create_engine, inspect   #presto"
   ]
  },
  {
   "cell_type": "code",
   "execution_count": 2,
   "metadata": {},
   "outputs": [],
   "source": [
    "sns.set_style(\"white\")"
   ]
  },
  {
   "cell_type": "markdown",
   "metadata": {},
   "source": [
    "### Conexión a Presto"
   ]
  },
  {
   "cell_type": "code",
   "execution_count": 150,
   "metadata": {},
   "outputs": [],
   "source": [
    "#setear usuario\n",
    "usuario={\"usuario\":\"------\",\"contraseña\":\"-----\"}"
   ]
  },
  {
   "cell_type": "code",
   "execution_count": 151,
   "metadata": {},
   "outputs": [],
   "source": [
    "#crear conexión\n",
    "url=\"presto://\"+usuario['usuario']+\"@hue.peya.co:8889/hive/datalake\"\n",
    "engine = create_engine(url)\n",
    "connection = engine.connect()"
   ]
  },
  {
   "cell_type": "code",
   "execution_count": 7,
   "metadata": {},
   "outputs": [],
   "source": [
    "#Definir consulta\n",
    "query='''\n",
    "select *\n",
    "from default.main_cuisine_abr_may\n",
    "where cdcountry='Argentina'\n",
    "'''"
   ]
  },
  {
   "cell_type": "code",
   "execution_count": 152,
   "metadata": {
    "scrolled": false
   },
   "outputs": [
    {
     "data": {
      "text/html": [
       "<div>\n",
       "<style scoped>\n",
       "    .dataframe tbody tr th:only-of-type {\n",
       "        vertical-align: middle;\n",
       "    }\n",
       "\n",
       "    .dataframe tbody tr th {\n",
       "        vertical-align: top;\n",
       "    }\n",
       "\n",
       "    .dataframe thead th {\n",
       "        text-align: right;\n",
       "    }\n",
       "</style>\n",
       "<table border=\"1\" class=\"dataframe\">\n",
       "  <thead>\n",
       "    <tr style=\"text-align: right;\">\n",
       "      <th></th>\n",
       "      <th>userid</th>\n",
       "      <th>cdcountry</th>\n",
       "      <th>month</th>\n",
       "      <th>qty_shops</th>\n",
       "      <th>total_orders</th>\n",
       "      <th>not_weekend</th>\n",
       "      <th>weekend</th>\n",
       "      <th>lunes</th>\n",
       "      <th>martes</th>\n",
       "      <th>miercoles</th>\n",
       "      <th>...</th>\n",
       "      <th>helados</th>\n",
       "      <th>sushi</th>\n",
       "      <th>pollo</th>\n",
       "      <th>milanesas</th>\n",
       "      <th>sandwiches</th>\n",
       "      <th>other</th>\n",
       "      <th>order_discount</th>\n",
       "      <th>coupon</th>\n",
       "      <th>rating</th>\n",
       "      <th>amount</th>\n",
       "    </tr>\n",
       "  </thead>\n",
       "  <tbody>\n",
       "    <tr>\n",
       "      <th>0</th>\n",
       "      <td>12428378</td>\n",
       "      <td>Argentina</td>\n",
       "      <td>4</td>\n",
       "      <td>1</td>\n",
       "      <td>1</td>\n",
       "      <td>0</td>\n",
       "      <td>1</td>\n",
       "      <td>0</td>\n",
       "      <td>0</td>\n",
       "      <td>0</td>\n",
       "      <td>...</td>\n",
       "      <td>1</td>\n",
       "      <td>0</td>\n",
       "      <td>0</td>\n",
       "      <td>0</td>\n",
       "      <td>0</td>\n",
       "      <td>0</td>\n",
       "      <td>0</td>\n",
       "      <td>0</td>\n",
       "      <td>4.69</td>\n",
       "      <td>450.00</td>\n",
       "    </tr>\n",
       "    <tr>\n",
       "      <th>1</th>\n",
       "      <td>18379938</td>\n",
       "      <td>Argentina</td>\n",
       "      <td>5</td>\n",
       "      <td>2</td>\n",
       "      <td>3</td>\n",
       "      <td>1</td>\n",
       "      <td>2</td>\n",
       "      <td>0</td>\n",
       "      <td>0</td>\n",
       "      <td>0</td>\n",
       "      <td>...</td>\n",
       "      <td>0</td>\n",
       "      <td>0</td>\n",
       "      <td>0</td>\n",
       "      <td>2</td>\n",
       "      <td>0</td>\n",
       "      <td>1</td>\n",
       "      <td>0</td>\n",
       "      <td>0</td>\n",
       "      <td>4.36</td>\n",
       "      <td>1166.67</td>\n",
       "    </tr>\n",
       "    <tr>\n",
       "      <th>2</th>\n",
       "      <td>12886415</td>\n",
       "      <td>Argentina</td>\n",
       "      <td>5</td>\n",
       "      <td>1</td>\n",
       "      <td>1</td>\n",
       "      <td>0</td>\n",
       "      <td>1</td>\n",
       "      <td>0</td>\n",
       "      <td>0</td>\n",
       "      <td>0</td>\n",
       "      <td>...</td>\n",
       "      <td>0</td>\n",
       "      <td>0</td>\n",
       "      <td>0</td>\n",
       "      <td>0</td>\n",
       "      <td>0</td>\n",
       "      <td>1</td>\n",
       "      <td>0</td>\n",
       "      <td>0</td>\n",
       "      <td>4.84</td>\n",
       "      <td>500.00</td>\n",
       "    </tr>\n",
       "    <tr>\n",
       "      <th>3</th>\n",
       "      <td>19287823</td>\n",
       "      <td>Argentina</td>\n",
       "      <td>5</td>\n",
       "      <td>2</td>\n",
       "      <td>2</td>\n",
       "      <td>0</td>\n",
       "      <td>2</td>\n",
       "      <td>0</td>\n",
       "      <td>0</td>\n",
       "      <td>0</td>\n",
       "      <td>...</td>\n",
       "      <td>0</td>\n",
       "      <td>0</td>\n",
       "      <td>0</td>\n",
       "      <td>0</td>\n",
       "      <td>0</td>\n",
       "      <td>0</td>\n",
       "      <td>1</td>\n",
       "      <td>1</td>\n",
       "      <td>4.64</td>\n",
       "      <td>1102.00</td>\n",
       "    </tr>\n",
       "    <tr>\n",
       "      <th>4</th>\n",
       "      <td>16545147</td>\n",
       "      <td>Argentina</td>\n",
       "      <td>5</td>\n",
       "      <td>5</td>\n",
       "      <td>6</td>\n",
       "      <td>5</td>\n",
       "      <td>1</td>\n",
       "      <td>3</td>\n",
       "      <td>2</td>\n",
       "      <td>0</td>\n",
       "      <td>...</td>\n",
       "      <td>2</td>\n",
       "      <td>0</td>\n",
       "      <td>0</td>\n",
       "      <td>0</td>\n",
       "      <td>0</td>\n",
       "      <td>2</td>\n",
       "      <td>1</td>\n",
       "      <td>1</td>\n",
       "      <td>4.48</td>\n",
       "      <td>273.17</td>\n",
       "    </tr>\n",
       "  </tbody>\n",
       "</table>\n",
       "<p>5 rows × 33 columns</p>\n",
       "</div>"
      ],
      "text/plain": [
       "     userid  cdcountry  month  qty_shops  total_orders  not_weekend  weekend  \\\n",
       "0  12428378  Argentina      4          1             1            0        1   \n",
       "1  18379938  Argentina      5          2             3            1        2   \n",
       "2  12886415  Argentina      5          1             1            0        1   \n",
       "3  19287823  Argentina      5          2             2            0        2   \n",
       "4  16545147  Argentina      5          5             6            5        1   \n",
       "\n",
       "   lunes  martes  miercoles  ...  helados  sushi  pollo  milanesas  \\\n",
       "0      0       0          0  ...        1      0      0          0   \n",
       "1      0       0          0  ...        0      0      0          2   \n",
       "2      0       0          0  ...        0      0      0          0   \n",
       "3      0       0          0  ...        0      0      0          0   \n",
       "4      3       2          0  ...        2      0      0          0   \n",
       "\n",
       "   sandwiches  other  order_discount  coupon  rating   amount  \n",
       "0           0      0               0       0    4.69   450.00  \n",
       "1           0      1               0       0    4.36  1166.67  \n",
       "2           0      1               0       0    4.84   500.00  \n",
       "3           0      0               1       1    4.64  1102.00  \n",
       "4           0      2               1       1    4.48   273.17  \n",
       "\n",
       "[5 rows x 33 columns]"
      ]
     },
     "execution_count": 152,
     "metadata": {},
     "output_type": "execute_result"
    }
   ],
   "source": [
    "#Ejecutar la consulta\n",
    "main_cuisine = pd.read_sql(query,con=connection)\n",
    "main_cuisine.head()"
   ]
  },
  {
   "cell_type": "markdown",
   "metadata": {},
   "source": [
    "### Conexión a BQ"
   ]
  },
  {
   "cell_type": "code",
   "execution_count": null,
   "metadata": {},
   "outputs": [],
   "source": [
    "seg_may = pd.io.gbq.read_gbq('''\n",
    "  select customer_id as userid\n",
    "        , activity_group as activity_group_may\n",
    "        , vendor_selection_group as vendor_selection_group_may\n",
    "        , customer_experience_group as customer_experience_group_may\n",
    "FROM `bpy---pedidosya.user_leticia_colombo.user_profile_Arg_may` \n",
    "where cast(customer_id as numeric)<>0 or customer_id is not null\n",
    "''', project_id=\"bpy---pedidosya\", dialect='standard')"
   ]
  },
  {
   "cell_type": "code",
   "execution_count": null,
   "metadata": {},
   "outputs": [],
   "source": [
    "seg_may.userid=seg_may.userid.astype('int64') #paso a int el user id porque en la otra tabla está como int"
   ]
  },
  {
   "cell_type": "code",
   "execution_count": null,
   "metadata": {},
   "outputs": [],
   "source": [
    "# Concat de main_cuisine con tabla de BQ segmentos\n",
    "mcm=main_cuisine[['userid', 'cdcountry', 'qty_shops', 'total_orders', 'not_weekend',\n",
    "       'weekend', 'lunes', 'martes', 'miercoles', 'jueves', 'viernes',\n",
    "       'sabado', 'domingo', 'lunch', 'dinner', 'shop_list', 'filter_tr', 'search',\n",
    "       'order_through_other', 'hamburguesas', 'pizzas', 'empanadas', 'helados',\n",
    "       'sushi', 'pollo', 'milanesas', 'sandwiches', 'other']].merge(seg_may, how=\"left\", on=\"userid\")"
   ]
  }
 ],
 "metadata": {
  "kernelspec": {
   "display_name": "Python 3",
   "language": "python",
   "name": "python3"
  },
  "language_info": {
   "codemirror_mode": {
    "name": "ipython",
    "version": 3
   },
   "file_extension": ".py",
   "mimetype": "text/x-python",
   "name": "python",
   "nbconvert_exporter": "python",
   "pygments_lexer": "ipython3",
   "version": "3.7.3"
  }
 },
 "nbformat": 4,
 "nbformat_minor": 2
}
